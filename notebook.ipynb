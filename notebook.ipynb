{
 "cells": [
  {
   "cell_type": "code",
   "execution_count": 1,
   "id": "2edc072f",
   "metadata": {},
   "outputs": [
    {
     "name": "stdout",
     "output_type": "stream",
     "text": [
      "hello word\n"
     ]
    }
   ],
   "source": [
    "print(\"hello word\")"
   ]
  },
  {
   "cell_type": "code",
   "execution_count": null,
   "id": "acd35876",
   "metadata": {},
   "outputs": [],
   "source": [
    "import pandas as pd\n",
    "from sqlalchemy import create_engine\n",
    "from sqlalchemy_utils import database_exists, create_database\n",
    "\n",
    "# Paramètres de connexion.\n",
    "username = \"root\"\n",
    "password = \"password\"\n",
    "host = \"localhost\"\n",
    "port = 3306\n",
    "database = \"my_dbt_db\"\n",
    "\n",
    "# On créée la connexion vers la base de données.\n",
    "DATABASE_URI = f'mysql+pymysql://{username}:{password}@{host}:{port}/{database}'\n",
    "engine = create_engine(DATABASE_URI)\n",
    "\n",
    "# On créée la base de données si elle n'existe pas.\n",
    "if not database_exists(engine.url):\n",
    "    create_database(engine.url)\n",
    "\n",
    "# On créée un DataFrame pour chaque fichier CSV de la base de données.\n",
    "liste_tables = [\"customers\", \"items\", \"orders\", \"products\", \"stores\", \"supplies\"]\n",
    "\n",
    "for table in liste_tables:\n",
    "   csv_url = f\"https://raw.githubusercontent.com/dsteddy/jaffle_shop_data/main/raw_{table}.csv\"\n",
    "   df = pd.read_csv(csv_url)\n",
    "   # On ajoute les informations de de dataframe à la table dans MySQL.\n",
    "   df.to_sql(f\"raw_{table}\", engine, if_exists=\"replace\", index=False)"
   ]
  },
  {
   "cell_type": "code",
   "execution_count": 3,
   "id": "bbf07462",
   "metadata": {},
   "outputs": [
    {
     "data": {
      "text/html": [
       "<div>\n",
       "<style scoped>\n",
       "    .dataframe tbody tr th:only-of-type {\n",
       "        vertical-align: middle;\n",
       "    }\n",
       "\n",
       "    .dataframe tbody tr th {\n",
       "        vertical-align: top;\n",
       "    }\n",
       "\n",
       "    .dataframe thead th {\n",
       "        text-align: right;\n",
       "    }\n",
       "</style>\n",
       "<table border=\"1\" class=\"dataframe\">\n",
       "  <thead>\n",
       "    <tr style=\"text-align: right;\">\n",
       "      <th></th>\n",
       "      <th>id</th>\n",
       "      <th>name</th>\n",
       "    </tr>\n",
       "  </thead>\n",
       "  <tbody>\n",
       "    <tr>\n",
       "      <th>0</th>\n",
       "      <td>ae3a050d-287f-4257-a778-cdb4206aa012</td>\n",
       "      <td>Anthony Wells</td>\n",
       "    </tr>\n",
       "    <tr>\n",
       "      <th>1</th>\n",
       "      <td>33a51363-1989-4967-93a1-b8e225b91e84</td>\n",
       "      <td>Scott Thompson</td>\n",
       "    </tr>\n",
       "    <tr>\n",
       "      <th>2</th>\n",
       "      <td>2f8f7de0-4c62-4b87-8494-6a50d68052ad</td>\n",
       "      <td>Michael Walker</td>\n",
       "    </tr>\n",
       "    <tr>\n",
       "      <th>3</th>\n",
       "      <td>46f7be1b-f2bc-4a91-a7c3-88c141564e31</td>\n",
       "      <td>Alicia Clark</td>\n",
       "    </tr>\n",
       "    <tr>\n",
       "      <th>4</th>\n",
       "      <td>c616a2a2-5efc-4e22-9db1-50dfa4d331d1</td>\n",
       "      <td>Dawn Williams</td>\n",
       "    </tr>\n",
       "    <tr>\n",
       "      <th>...</th>\n",
       "      <td>...</td>\n",
       "      <td>...</td>\n",
       "    </tr>\n",
       "    <tr>\n",
       "      <th>925</th>\n",
       "      <td>dac6a745-7f69-4989-b73f-ec51b4d244ab</td>\n",
       "      <td>Tony Mendoza</td>\n",
       "    </tr>\n",
       "    <tr>\n",
       "      <th>926</th>\n",
       "      <td>fe5dfa9b-16ec-4bf5-b910-b7eff0ade368</td>\n",
       "      <td>Traci Patel</td>\n",
       "    </tr>\n",
       "    <tr>\n",
       "      <th>927</th>\n",
       "      <td>cf9e333f-e1c0-4abb-b5f6-b4c9eaf7f111</td>\n",
       "      <td>Ryan Nash</td>\n",
       "    </tr>\n",
       "    <tr>\n",
       "      <th>928</th>\n",
       "      <td>bf467f40-51cd-4773-b463-cce4999a5558</td>\n",
       "      <td>Tyler Henderson</td>\n",
       "    </tr>\n",
       "    <tr>\n",
       "      <th>929</th>\n",
       "      <td>864b3c0c-41ce-4ff3-9ad4-1d4eea9042ec</td>\n",
       "      <td>Tiffany Bass</td>\n",
       "    </tr>\n",
       "  </tbody>\n",
       "</table>\n",
       "<p>930 rows × 2 columns</p>\n",
       "</div>"
      ],
      "text/plain": [
       "                                       id             name\n",
       "0    ae3a050d-287f-4257-a778-cdb4206aa012    Anthony Wells\n",
       "1    33a51363-1989-4967-93a1-b8e225b91e84   Scott Thompson\n",
       "2    2f8f7de0-4c62-4b87-8494-6a50d68052ad   Michael Walker\n",
       "3    46f7be1b-f2bc-4a91-a7c3-88c141564e31     Alicia Clark\n",
       "4    c616a2a2-5efc-4e22-9db1-50dfa4d331d1    Dawn Williams\n",
       "..                                    ...              ...\n",
       "925  dac6a745-7f69-4989-b73f-ec51b4d244ab     Tony Mendoza\n",
       "926  fe5dfa9b-16ec-4bf5-b910-b7eff0ade368      Traci Patel\n",
       "927  cf9e333f-e1c0-4abb-b5f6-b4c9eaf7f111        Ryan Nash\n",
       "928  bf467f40-51cd-4773-b463-cce4999a5558  Tyler Henderson\n",
       "929  864b3c0c-41ce-4ff3-9ad4-1d4eea9042ec     Tiffany Bass\n",
       "\n",
       "[930 rows x 2 columns]"
      ]
     },
     "execution_count": 3,
     "metadata": {},
     "output_type": "execute_result"
    }
   ],
   "source": [
    "pd.read_csv('https://raw.githubusercontent.com/dsteddy/jaffle_shop_data/main/raw_customers.csv')"
   ]
  }
 ],
 "metadata": {
  "kernelspec": {
   "display_name": ".venv",
   "language": "python",
   "name": "python3"
  },
  "language_info": {
   "codemirror_mode": {
    "name": "ipython",
    "version": 3
   },
   "file_extension": ".py",
   "mimetype": "text/x-python",
   "name": "python",
   "nbconvert_exporter": "python",
   "pygments_lexer": "ipython3",
   "version": "3.13.5"
  }
 },
 "nbformat": 4,
 "nbformat_minor": 5
}
